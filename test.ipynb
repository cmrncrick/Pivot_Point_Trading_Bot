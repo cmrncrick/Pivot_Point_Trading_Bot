{
 "cells": [
  {
   "cell_type": "code",
   "execution_count": 11,
   "metadata": {},
   "outputs": [],
   "source": [
    "import sqlite3\n",
    "\n",
    "from helpers.constants import QUERY"
   ]
  },
  {
   "cell_type": "code",
   "execution_count": 10,
   "metadata": {},
   "outputs": [
    {
     "data": {
      "text/plain": [
       "<module 'helpers.constants' from 'd:\\\\Documents\\\\GitHub\\\\Pivot_Point_Trading_Bot\\\\helpers\\\\constants.py'>"
      ]
     },
     "execution_count": 10,
     "metadata": {},
     "output_type": "execute_result"
    }
   ],
   "source": [
    "# Forcing module reload\n",
    "\n",
    "import importlib\n",
    "import helpers.constants\n",
    "importlib.reload(helpers.constants)"
   ]
  },
  {
   "cell_type": "code",
   "execution_count": 19,
   "metadata": {},
   "outputs": [],
   "source": [
    "conn = sqlite3.connect(\"Futures.db\")\n",
    "cursor = conn.cursor()"
   ]
  },
  {
   "cell_type": "code",
   "execution_count": 20,
   "metadata": {},
   "outputs": [],
   "source": [
    "cursor.execute(QUERY)\n",
    "x = cursor.fetchall()\n",
    "conn.close()"
   ]
  },
  {
   "cell_type": "code",
   "execution_count": 21,
   "metadata": {},
   "outputs": [
    {
     "name": "stdout",
     "output_type": "stream",
     "text": [
      "5771.75\n"
     ]
    }
   ],
   "source": [
    "high = x[0][0]\n",
    "low = x[0][1]\n",
    "close = x[0][2]\n",
    "\n",
    "print(close)"
   ]
  },
  {
   "cell_type": "code",
   "execution_count": null,
   "metadata": {},
   "outputs": [
    {
     "name": "stdout",
     "output_type": "stream",
     "text": [
      "List of tables\n",
      "\n",
      "[('ES_1m',), ('ES_5m',), ('ES_15m',), ('ES_30m',), ('ES_1h',), ('YM_1m',), ('YM_5m',), ('YM_15m',), ('YM_30m',), ('YM_1h',), ('NQ_1m',), ('NQ_5m',), ('NQ_15m',), ('NQ_30m',), ('NQ_1h',), ('RT_1m',), ('RT_5m',), ('RT_15m',), ('RT_30m',), ('RT_1h',), ('CL_1m',), ('CL_5m',), ('CL_15m',), ('CL_30m',), ('CL_1h',), ('GC_1m',), ('GC_5m',), ('GC_15m',), ('GC_30m',), ('GC_1h',), ('SI_1m',), ('SI_5m',), ('SI_15m',), ('SI_30m',), ('SI_1h',), ('VIX_1m',), ('VIX_5m',), ('VIX_15m',), ('VIX_30m',), ('VIX_1h',)]\n"
     ]
    }
   ],
   "source": [
    "# Getting all tables from sqlite_master\n",
    "sql_query = \"\"\"SELECT name FROM sqlite_master \n",
    "WHERE type='table';\"\"\"\n",
    "\n",
    "# Creating cursor object using connection object\n",
    "cursor = conn.cursor()\n",
    "\n",
    "# executing our sql query\n",
    "cursor.execute(sql_query)\n",
    "print(\"List of tables\\n\")\n",
    "\n",
    "# printing all tables list\n",
    "print(cursor.fetchall())"
   ]
  },
  {
   "cell_type": "code",
   "execution_count": null,
   "metadata": {},
   "outputs": [
    {
     "name": "stderr",
     "output_type": "stream",
     "text": [
      "[*********************100%***********************]  1 of 1 completed\n"
     ]
    },
    {
     "data": {
      "text/html": [
       "<div>\n",
       "<style scoped>\n",
       "    .dataframe tbody tr th:only-of-type {\n",
       "        vertical-align: middle;\n",
       "    }\n",
       "\n",
       "    .dataframe tbody tr th {\n",
       "        vertical-align: top;\n",
       "    }\n",
       "\n",
       "    .dataframe thead th {\n",
       "        text-align: right;\n",
       "    }\n",
       "</style>\n",
       "<table border=\"1\" class=\"dataframe\">\n",
       "  <thead>\n",
       "    <tr style=\"text-align: right;\">\n",
       "      <th>Price</th>\n",
       "      <th>Close</th>\n",
       "      <th>High</th>\n",
       "      <th>Low</th>\n",
       "      <th>Open</th>\n",
       "      <th>Volume</th>\n",
       "    </tr>\n",
       "    <tr>\n",
       "      <th>Datetime</th>\n",
       "      <th></th>\n",
       "      <th></th>\n",
       "      <th></th>\n",
       "      <th></th>\n",
       "      <th></th>\n",
       "    </tr>\n",
       "  </thead>\n",
       "  <tbody>\n",
       "    <tr>\n",
       "      <th>2025-04-16 08:30:00-05:00</th>\n",
       "      <td>5343.870117</td>\n",
       "      <td>5355.189941</td>\n",
       "      <td>5331.990234</td>\n",
       "      <td>5335.750000</td>\n",
       "      <td>89887303</td>\n",
       "    </tr>\n",
       "    <tr>\n",
       "      <th>2025-04-16 08:45:00-05:00</th>\n",
       "      <td>5316.859863</td>\n",
       "      <td>5343.870117</td>\n",
       "      <td>5316.859863</td>\n",
       "      <td>5343.870117</td>\n",
       "      <td>123457695</td>\n",
       "    </tr>\n",
       "    <tr>\n",
       "      <th>2025-04-16 09:00:00-05:00</th>\n",
       "      <td>5320.229980</td>\n",
       "      <td>5332.529785</td>\n",
       "      <td>5314.500000</td>\n",
       "      <td>5316.229980</td>\n",
       "      <td>121879612</td>\n",
       "    </tr>\n",
       "    <tr>\n",
       "      <th>2025-04-16 09:15:00-05:00</th>\n",
       "      <td>5335.479980</td>\n",
       "      <td>5338.850098</td>\n",
       "      <td>5317.850098</td>\n",
       "      <td>5319.959961</td>\n",
       "      <td>100686287</td>\n",
       "    </tr>\n",
       "    <tr>\n",
       "      <th>2025-04-16 09:30:00-05:00</th>\n",
       "      <td>5344.729980</td>\n",
       "      <td>5346.270020</td>\n",
       "      <td>5331.649902</td>\n",
       "      <td>5335.439941</td>\n",
       "      <td>91724536</td>\n",
       "    </tr>\n",
       "  </tbody>\n",
       "</table>\n",
       "</div>"
      ],
      "text/plain": [
       "Price                            Close         High          Low         Open  \\\n",
       "Datetime                                                                        \n",
       "2025-04-16 08:30:00-05:00  5343.870117  5355.189941  5331.990234  5335.750000   \n",
       "2025-04-16 08:45:00-05:00  5316.859863  5343.870117  5316.859863  5343.870117   \n",
       "2025-04-16 09:00:00-05:00  5320.229980  5332.529785  5314.500000  5316.229980   \n",
       "2025-04-16 09:15:00-05:00  5335.479980  5338.850098  5317.850098  5319.959961   \n",
       "2025-04-16 09:30:00-05:00  5344.729980  5346.270020  5331.649902  5335.439941   \n",
       "\n",
       "Price                         Volume  \n",
       "Datetime                              \n",
       "2025-04-16 08:30:00-05:00   89887303  \n",
       "2025-04-16 08:45:00-05:00  123457695  \n",
       "2025-04-16 09:00:00-05:00  121879612  \n",
       "2025-04-16 09:15:00-05:00  100686287  \n",
       "2025-04-16 09:30:00-05:00   91724536  "
      ]
     },
     "execution_count": 5,
     "metadata": {},
     "output_type": "execute_result"
    }
   ],
   "source": [
    "import pandas as pd\n",
    "import yfinance as yf\n",
    "from datetime import timedelta\n",
    "\n",
    "# Calculate start date\n",
    "today = pd.to_datetime(\"today\").normalize()\n",
    "# Only counts business days\n",
    "start = today - pd.tseries.offsets.BDay(5)\n",
    "\n",
    "# Downloading correct data from yfinance\n",
    "df = yf.download(\"^GSPC\", start=start, interval=\"15m\", prepost=False)\n",
    "df = df.xs(\"^GSPC\", axis=1, level=\"Ticker\")\n",
    "df.index = df.index.tz_convert(\"America/Chicago\")\n",
    "df.head(5)"
   ]
  },
  {
   "cell_type": "code",
   "execution_count": null,
   "metadata": {},
   "outputs": [
    {
     "data": {
      "text/html": [
       "<div>\n",
       "<style scoped>\n",
       "    .dataframe tbody tr th:only-of-type {\n",
       "        vertical-align: middle;\n",
       "    }\n",
       "\n",
       "    .dataframe tbody tr th {\n",
       "        vertical-align: top;\n",
       "    }\n",
       "\n",
       "    .dataframe thead th {\n",
       "        text-align: right;\n",
       "    }\n",
       "</style>\n",
       "<table border=\"1\" class=\"dataframe\">\n",
       "  <thead>\n",
       "    <tr style=\"text-align: right;\">\n",
       "      <th>Price</th>\n",
       "      <th>Close</th>\n",
       "      <th>High</th>\n",
       "      <th>Low</th>\n",
       "      <th>Open</th>\n",
       "      <th>Volume</th>\n",
       "      <th>Date</th>\n",
       "      <th>Time</th>\n",
       "    </tr>\n",
       "  </thead>\n",
       "  <tbody>\n",
       "    <tr>\n",
       "      <th>99</th>\n",
       "      <td>5284.379883</td>\n",
       "      <td>5288.270020</td>\n",
       "      <td>5277.569824</td>\n",
       "      <td>5277.569824</td>\n",
       "      <td>70561000</td>\n",
       "      <td>2025-04-22</td>\n",
       "      <td>13:45:00</td>\n",
       "    </tr>\n",
       "    <tr>\n",
       "      <th>100</th>\n",
       "      <td>5273.680176</td>\n",
       "      <td>5287.169922</td>\n",
       "      <td>5272.580078</td>\n",
       "      <td>5284.259766</td>\n",
       "      <td>68341000</td>\n",
       "      <td>2025-04-22</td>\n",
       "      <td>14:00:00</td>\n",
       "    </tr>\n",
       "    <tr>\n",
       "      <th>101</th>\n",
       "      <td>5263.319824</td>\n",
       "      <td>5275.660156</td>\n",
       "      <td>5259.810059</td>\n",
       "      <td>5273.750000</td>\n",
       "      <td>86745000</td>\n",
       "      <td>2025-04-22</td>\n",
       "      <td>14:15:00</td>\n",
       "    </tr>\n",
       "    <tr>\n",
       "      <th>102</th>\n",
       "      <td>5278.810059</td>\n",
       "      <td>5281.359863</td>\n",
       "      <td>5259.100098</td>\n",
       "      <td>5263.140137</td>\n",
       "      <td>121346000</td>\n",
       "      <td>2025-04-22</td>\n",
       "      <td>14:30:00</td>\n",
       "    </tr>\n",
       "    <tr>\n",
       "      <th>103</th>\n",
       "      <td>5286.810059</td>\n",
       "      <td>5291.810059</td>\n",
       "      <td>5274.069824</td>\n",
       "      <td>5278.470215</td>\n",
       "      <td>327807000</td>\n",
       "      <td>2025-04-22</td>\n",
       "      <td>14:45:00</td>\n",
       "    </tr>\n",
       "  </tbody>\n",
       "</table>\n",
       "</div>"
      ],
      "text/plain": [
       "Price        Close         High          Low         Open     Volume  \\\n",
       "99     5284.379883  5288.270020  5277.569824  5277.569824   70561000   \n",
       "100    5273.680176  5287.169922  5272.580078  5284.259766   68341000   \n",
       "101    5263.319824  5275.660156  5259.810059  5273.750000   86745000   \n",
       "102    5278.810059  5281.359863  5259.100098  5263.140137  121346000   \n",
       "103    5286.810059  5291.810059  5274.069824  5278.470215  327807000   \n",
       "\n",
       "Price        Date      Time  \n",
       "99     2025-04-22  13:45:00  \n",
       "100    2025-04-22  14:00:00  \n",
       "101    2025-04-22  14:15:00  \n",
       "102    2025-04-22  14:30:00  \n",
       "103    2025-04-22  14:45:00  "
      ]
     },
     "execution_count": 6,
     "metadata": {},
     "output_type": "execute_result"
    }
   ],
   "source": [
    "# Split Datetime into Date, Time\n",
    "df['Date'] = df.index.strftime('%Y-%m-%d')  # Extract Date\n",
    "df['Time'] = df.index.strftime('%H:%M:%S')  # Extract Time without timezone\n",
    "df.tail()\n",
    "\n",
    "# Drop -05:00\n",
    "df = df.reset_index(drop=True)  # Remove original Datetime index if needed\n",
    "df.tail()\n",
    "\n",
    "# Delete all rows with Time between 15:15 & 08:15\n",
    "# Convert Time column to datetime.time for proper comparison\n",
    "df['Time'] = pd.to_datetime(df['Time'], format='%H:%M:%S').dt.time\n",
    "\n",
    "# Define the start and end time boundaries\n",
    "start_time = pd.to_datetime(\"15:15:00\", format='%H:%M:%S').time()\n",
    "end_time = pd.to_datetime(\"08:15:00\", format='%H:%M:%S').time()\n",
    "\n",
    "# Keep only rows where Time is NOT between 15:15:00 and 08:15:00\n",
    "df = df[~((df['Time'] >= start_time) | (df['Time'] <= end_time))]\n",
    "\n",
    "# Reset index after filtering (optional)\n",
    "df = df.reset_index(drop=True)\n",
    "df.tail()\n",
    "\n",
    "# Retrieve Max value for High column\n",
    "\n",
    "# Retrieve Min value for Low column\n",
    "\n",
    "# Retrieve most recent value for Close column\n",
    "\n",
    "# Perform calculations"
   ]
  },
  {
   "cell_type": "code",
   "execution_count": 7,
   "metadata": {},
   "outputs": [
    {
     "data": {
      "text/html": [
       "<div>\n",
       "<style scoped>\n",
       "    .dataframe tbody tr th:only-of-type {\n",
       "        vertical-align: middle;\n",
       "    }\n",
       "\n",
       "    .dataframe tbody tr th {\n",
       "        vertical-align: top;\n",
       "    }\n",
       "\n",
       "    .dataframe thead th {\n",
       "        text-align: right;\n",
       "    }\n",
       "</style>\n",
       "<table border=\"1\" class=\"dataframe\">\n",
       "  <thead>\n",
       "    <tr style=\"text-align: right;\">\n",
       "      <th>Price</th>\n",
       "      <th>Close</th>\n",
       "      <th>High</th>\n",
       "      <th>Low</th>\n",
       "      <th>Open</th>\n",
       "      <th>Volume</th>\n",
       "      <th>Date</th>\n",
       "      <th>Time</th>\n",
       "    </tr>\n",
       "  </thead>\n",
       "  <tbody>\n",
       "    <tr>\n",
       "      <th>0</th>\n",
       "      <td>5343.870117</td>\n",
       "      <td>5355.189941</td>\n",
       "      <td>5331.990234</td>\n",
       "      <td>5335.750000</td>\n",
       "      <td>89887303</td>\n",
       "      <td>2025-04-16</td>\n",
       "      <td>08:30:00</td>\n",
       "    </tr>\n",
       "    <tr>\n",
       "      <th>1</th>\n",
       "      <td>5316.859863</td>\n",
       "      <td>5343.870117</td>\n",
       "      <td>5316.859863</td>\n",
       "      <td>5343.870117</td>\n",
       "      <td>123457695</td>\n",
       "      <td>2025-04-16</td>\n",
       "      <td>08:45:00</td>\n",
       "    </tr>\n",
       "    <tr>\n",
       "      <th>2</th>\n",
       "      <td>5320.229980</td>\n",
       "      <td>5332.529785</td>\n",
       "      <td>5314.500000</td>\n",
       "      <td>5316.229980</td>\n",
       "      <td>121879612</td>\n",
       "      <td>2025-04-16</td>\n",
       "      <td>09:00:00</td>\n",
       "    </tr>\n",
       "    <tr>\n",
       "      <th>3</th>\n",
       "      <td>5335.479980</td>\n",
       "      <td>5338.850098</td>\n",
       "      <td>5317.850098</td>\n",
       "      <td>5319.959961</td>\n",
       "      <td>100686287</td>\n",
       "      <td>2025-04-16</td>\n",
       "      <td>09:15:00</td>\n",
       "    </tr>\n",
       "    <tr>\n",
       "      <th>4</th>\n",
       "      <td>5344.729980</td>\n",
       "      <td>5346.270020</td>\n",
       "      <td>5331.649902</td>\n",
       "      <td>5335.439941</td>\n",
       "      <td>91724536</td>\n",
       "      <td>2025-04-16</td>\n",
       "      <td>09:30:00</td>\n",
       "    </tr>\n",
       "  </tbody>\n",
       "</table>\n",
       "</div>"
      ],
      "text/plain": [
       "Price        Close         High          Low         Open     Volume  \\\n",
       "0      5343.870117  5355.189941  5331.990234  5335.750000   89887303   \n",
       "1      5316.859863  5343.870117  5316.859863  5343.870117  123457695   \n",
       "2      5320.229980  5332.529785  5314.500000  5316.229980  121879612   \n",
       "3      5335.479980  5338.850098  5317.850098  5319.959961  100686287   \n",
       "4      5344.729980  5346.270020  5331.649902  5335.439941   91724536   \n",
       "\n",
       "Price        Date      Time  \n",
       "0      2025-04-16  08:30:00  \n",
       "1      2025-04-16  08:45:00  \n",
       "2      2025-04-16  09:00:00  \n",
       "3      2025-04-16  09:15:00  \n",
       "4      2025-04-16  09:30:00  "
      ]
     },
     "execution_count": 7,
     "metadata": {},
     "output_type": "execute_result"
    }
   ],
   "source": [
    "df.head()"
   ]
  },
  {
   "cell_type": "code",
   "execution_count": null,
   "metadata": {},
   "outputs": [
    {
     "name": "stdout",
     "output_type": "stream",
     "text": [
      "Max High: 5367.240234375, Min Low: 5101.6298828125, Latest Close: 5286.81005859375\n"
     ]
    }
   ],
   "source": [
    "max_high = df['High'].max()  # Maximum value in High column\n",
    "min_low = df['Low'].min()    # Minimum value in Low column\n",
    "latest_close = df['Close'].iloc[-1]  # Most recent Close value\n",
    "\n",
    "print(\n",
    "    f\"Max High: {max_high}, Min Low: {min_low}, Latest Close: {latest_close}\")"
   ]
  },
  {
   "cell_type": "code",
   "execution_count": null,
   "metadata": {},
   "outputs": [
    {
     "name": "stdout",
     "output_type": "stream",
     "text": [
      "265.6103515625\n",
      "5251.89\n",
      "5402.15\n",
      "5517.5\n",
      "5783.11\n",
      "5136.54\n",
      "4986.28\n",
      "4720.67\n"
     ]
    }
   ],
   "source": [
    "# Calculations\n",
    "\n",
    "ran = max_high - min_low\n",
    "print(ran)\n",
    "pp = round((max_high + min_low + latest_close) / 3, 2)\n",
    "print(pp)\n",
    "r1 = round(2 * pp - min_low, 2)\n",
    "print(r1)\n",
    "r2 = round(pp + ran, 2)\n",
    "print(r2)\n",
    "r3 = round(pp + ran * 2, 2)\n",
    "print(r3)\n",
    "s1 = round(2 * pp - max_high, 2)\n",
    "print(s1)\n",
    "s2 = round(pp - ran, 2)\n",
    "print(s2)\n",
    "s3 = round(pp - ran * 2, 2)\n",
    "print(s3)"
   ]
  },
  {
   "cell_type": "code",
   "execution_count": 51,
   "metadata": {},
   "outputs": [
    {
     "name": "stderr",
     "output_type": "stream",
     "text": [
      "[*********************100%***********************]  1 of 1 completed"
     ]
    },
    {
     "name": "stdout",
     "output_type": "stream",
     "text": [
      "<class 'numpy.float64'>\n"
     ]
    },
    {
     "name": "stderr",
     "output_type": "stream",
     "text": [
      "\n"
     ]
    }
   ],
   "source": [
    "# Downloading Data\n",
    "curr_price = yf.download(\n",
    "    \"ES=F\", start=pd.to_datetime(\"today\") - timedelta(1))\n",
    "\n",
    "# Reformatting Multi-Index\n",
    "curr_price = curr_price.xs('ES=F', axis=1, level='Ticker')\n",
    "\n",
    "# # Converting Times\n",
    "# curr_price.index = curr_price.index.tz_convert(\n",
    "#     'America/Chicago')\n",
    "\n",
    "# Retrieving Last Price\n",
    "last = curr_price[['Close']].iloc[-1]\n",
    "last = last.iloc[0]\n",
    "print(type(last))\n",
    "\n",
    "# logger.info(f\"Curr. Price: {last}\\n\")\n",
    "\n",
    "# Pulling Last Row\n",
    "curr_price = curr_price.iloc[-1]"
   ]
  },
  {
   "cell_type": "code",
   "execution_count": 52,
   "metadata": {},
   "outputs": [
    {
     "name": "stdout",
     "output_type": "stream",
     "text": [
      "5690.0\n"
     ]
    }
   ],
   "source": [
    "ticker = \"ES=F\"\n",
    "\n",
    "data = yf.Ticker(ticker)\n",
    "price = data.history(period=\"1d\", interval=\"1m\").iloc[-1][\"Close\"]\n",
    "print(price)"
   ]
  },
  {
   "cell_type": "code",
   "execution_count": 55,
   "metadata": {},
   "outputs": [
    {
     "name": "stderr",
     "output_type": "stream",
     "text": [
      "[*********************100%***********************]  1 of 1 completed"
     ]
    },
    {
     "name": "stdout",
     "output_type": "stream",
     "text": [
      "Price                        Close     High      Low     Open  Volume\n",
      "Datetime                                                             \n",
      "2025-03-09 17:00:00-05:00  5729.25  5756.25  5726.75  5753.00   11505\n",
      "2025-03-09 17:15:00-05:00  5733.50  5738.75  5722.75  5729.00    9280\n",
      "2025-03-09 17:30:00-05:00  5738.00  5741.25  5730.75  5733.50    4375\n",
      "2025-03-09 17:45:00-05:00  5728.00  5741.50  5727.50  5738.25    3555\n",
      "2025-03-09 18:00:00-05:00  5728.50  5732.00  5710.50  5728.00   11066\n",
      "...                            ...      ...      ...      ...     ...\n",
      "2025-03-10 08:00:00-05:00  5699.50  5706.75  5691.25  5701.25   23605\n",
      "2025-03-10 08:15:00-05:00  5691.50  5701.00  5690.25  5699.50   18350\n",
      "2025-03-10 08:30:00-05:00  5707.50  5711.25  5679.25  5691.50  135808\n",
      "2025-03-10 08:45:00-05:00  5689.25  5710.50  5682.25  5707.50  107442\n",
      "2025-03-10 09:00:00-05:00  5684.50  5689.50  5678.50  5689.50   12783\n",
      "\n",
      "[65 rows x 5 columns]\n"
     ]
    },
    {
     "name": "stderr",
     "output_type": "stream",
     "text": [
      "\n"
     ]
    }
   ],
   "source": [
    "curr_price = yf.download(\n",
    "    \"ES=F\", start=pd.to_datetime(\"today\") - timedelta(1), interval='15m')\n",
    "\n",
    "# Reformatting Multi-Index\n",
    "curr_price = curr_price.xs('ES=F', axis=1, level='Ticker')\n",
    "\n",
    "# # Converting Times\n",
    "curr_price.index = curr_price.index.tz_convert(\n",
    "    'America/Chicago')\n",
    "print(curr_price)"
   ]
  },
  {
   "cell_type": "code",
   "execution_count": null,
   "metadata": {},
   "outputs": [
    {
     "name": "stdout",
     "output_type": "stream",
     "text": [
      "Latest Price: 5673.0\n",
      "Latest Price: 5673.0\n",
      "Latest Price: 5673.0\n",
      "Latest Price: 5673.0\n"
     ]
    },
    {
     "ename": "KeyboardInterrupt",
     "evalue": "",
     "output_type": "error",
     "traceback": [
      "\u001b[1;31m---------------------------------------------------------------------------\u001b[0m",
      "\u001b[1;31mKeyboardInterrupt\u001b[0m                         Traceback (most recent call last)",
      "Cell \u001b[1;32mIn[56], line 8\u001b[0m\n\u001b[0;32m      6\u001b[0m \u001b[38;5;28;01mwhile\u001b[39;00m \u001b[38;5;28;01mTrue\u001b[39;00m:\n\u001b[0;32m      7\u001b[0m     \u001b[38;5;28mprint\u001b[39m(\u001b[38;5;124mf\u001b[39m\u001b[38;5;124m\"\u001b[39m\u001b[38;5;124mLatest Price: \u001b[39m\u001b[38;5;132;01m{\u001b[39;00mticker\u001b[38;5;241m.\u001b[39mfast_info[\u001b[38;5;124m'\u001b[39m\u001b[38;5;124mlast_price\u001b[39m\u001b[38;5;124m'\u001b[39m]\u001b[38;5;132;01m}\u001b[39;00m\u001b[38;5;124m\"\u001b[39m)\n\u001b[1;32m----> 8\u001b[0m     \u001b[43mtime\u001b[49m\u001b[38;5;241;43m.\u001b[39;49m\u001b[43msleep\u001b[49m\u001b[43m(\u001b[49m\u001b[38;5;241;43m5\u001b[39;49m\u001b[43m)\u001b[49m  \u001b[38;5;66;03m# Adjust as needed\u001b[39;00m\n",
      "\u001b[1;31mKeyboardInterrupt\u001b[0m: "
     ]
    }
   ],
   "source": [
    "import yfinance as yf\n",
    "import time\n",
    "\n",
    "ticker = yf.Ticker(\"ES=F\")\n",
    "\n",
    "while True:\n",
    "    print(f\"Latest Price: {ticker.fast_info['last_price']}\")\n",
    "    time.sleep(5)  # Adjust as needed"
   ]
  },
  {
   "cell_type": "code",
   "execution_count": null,
   "metadata": {},
   "outputs": [],
   "source": []
  }
 ],
 "metadata": {
  "kernelspec": {
   "display_name": "base",
   "language": "python",
   "name": "python3"
  },
  "language_info": {
   "codemirror_mode": {
    "name": "ipython",
    "version": 3
   },
   "file_extension": ".py",
   "mimetype": "text/x-python",
   "name": "python",
   "nbconvert_exporter": "python",
   "pygments_lexer": "ipython3",
   "version": "3.11.7"
  }
 },
 "nbformat": 4,
 "nbformat_minor": 2
}
